{
 "cells": [
  {
   "cell_type": "code",
   "execution_count": 3,
   "id": "b0eacddc",
   "metadata": {},
   "outputs": [],
   "source": [
    "import streamlit as st\n",
    "import pandas as pd\n",
    "import numpy as np"
   ]
  },
  {
   "cell_type": "code",
   "execution_count": 4,
   "id": "67d12569",
   "metadata": {},
   "outputs": [
    {
     "name": "stderr",
     "output_type": "stream",
     "text": [
      "2025-09-14 04:42:51.026 \n",
      "  \u001b[33m\u001b[1mWarning:\u001b[0m to view this Streamlit app on a browser, run it with the following\n",
      "  command:\n",
      "\n",
      "    streamlit run /opt/anaconda3/lib/python3.12/site-packages/ipykernel_launcher.py [ARGUMENTS]\n"
     ]
    },
    {
     "data": {
      "text/plain": [
       "DeltaGenerator()"
      ]
     },
     "execution_count": 4,
     "metadata": {},
     "output_type": "execute_result"
    }
   ],
   "source": [
    "st.title('Mapping Education In Lebanon')"
   ]
  },
  {
   "cell_type": "code",
   "execution_count": 5,
   "id": "e41cdc88",
   "metadata": {},
   "outputs": [
    {
     "name": "stdout",
     "output_type": "stream",
     "text": [
      "                                             refArea  EduResourceExists  \\\n",
      "0  https://dbpedia.org/page/Mount_Lebanon_Governo...                  0   \n",
      "1         https://dbpedia.org/page/South_Governorate                  0   \n",
      "2         https://dbpedia.org/page/Akkar_Governorate                  1   \n",
      "3         https://dbpedia.org/page/North_Governorate                  0   \n",
      "4        http://dbpedia.org/resource/Baabda_District                  1   \n",
      "\n",
      "   VocationalInstitutes                                    Observation URI  \\\n",
      "0                     0  http://linked.aub.edu.lb/CODEC/Lebanon/observa...   \n",
      "1                     0  http://linked.aub.edu.lb/CODEC/Lebanon/observa...   \n",
      "2                     0  http://linked.aub.edu.lb/CODEC/Lebanon/observa...   \n",
      "3                     0  http://linked.aub.edu.lb/CODEC/Lebanon/observa...   \n",
      "4                     0  http://linked.aub.edu.lb/CODEC/Lebanon/observa...   \n",
      "\n",
      "                                         references         publisher  \\\n",
      "0  https://impact.cib.gov.lb/home#open_data_section  Impact Open Data   \n",
      "1  https://impact.cib.gov.lb/home#open_data_section  Impact Open Data   \n",
      "2  https://impact.cib.gov.lb/home#open_data_section  Impact Open Data   \n",
      "3  https://impact.cib.gov.lb/home#open_data_section  Impact Open Data   \n",
      "4  https://impact.cib.gov.lb/home#open_data_section  Impact Open Data   \n",
      "\n",
      "   EduResourceMissing  LebaneseUniBranches  PublicSchoolCoverage  \\\n",
      "0                   1                    0                     0   \n",
      "1                   0                    0                     0   \n",
      "2                   0                    0                  2250   \n",
      "3                   1                    0                     0   \n",
      "4                   0                    0                  4000   \n",
      "\n",
      "   PublicSchools  Universities                      Town  PrivateUniBranches  \\\n",
      "0              0             0                     Bireh                   0   \n",
      "1              0             0  A'Ain El-Mir (El Establ)                   0   \n",
      "2              1             0     Aaridet Cheikh Zennad                   0   \n",
      "3              0             0                      Aaba                   0   \n",
      "4              2             0                 Aabadiyeh                   0   \n",
      "\n",
      "                                             dataset  PrivateSchools  \\\n",
      "0  http://linked.aub.edu.lb/CODEC/Lebanon/Dataset...               0   \n",
      "1  http://linked.aub.edu.lb/CODEC/Lebanon/Dataset...               0   \n",
      "2  http://linked.aub.edu.lb/CODEC/Lebanon/Dataset...               0   \n",
      "3  http://linked.aub.edu.lb/CODEC/Lebanon/Dataset...               0   \n",
      "4  http://linked.aub.edu.lb/CODEC/Lebanon/Dataset...               0   \n",
      "\n",
      "                 Governorate         District  \n",
      "0  Mount Lebanon Governorate             None  \n",
      "1          South Governorate             None  \n",
      "2          Akkar Governorate             None  \n",
      "3          North Governorate             None  \n",
      "4  Mount Lebanon Governorate  Baabda District  \n",
      "                                             refArea  Illiteracy  \\\n",
      "0  https://dbpedia.org/page/Mount_Lebanon_Governo...         2.0   \n",
      "1         https://dbpedia.org/page/South_Governorate         NaN   \n",
      "2         https://dbpedia.org/page/Akkar_Governorate        15.0   \n",
      "3         https://dbpedia.org/page/North_Governorate         5.0   \n",
      "4        http://dbpedia.org/resource/Baabda_District         3.0   \n",
      "\n",
      "   SchoolDropout                                    Observation URI  \\\n",
      "0            2.0  http://linked.aub.edu.lb/CODEC/Lebanon/observa...   \n",
      "1            NaN  http://linked.aub.edu.lb/CODEC/Lebanon/observa...   \n",
      "2            2.0  http://linked.aub.edu.lb/CODEC/Lebanon/observa...   \n",
      "3            1.0  http://linked.aub.edu.lb/CODEC/Lebanon/observa...   \n",
      "4            5.0  http://linked.aub.edu.lb/CODEC/Lebanon/observa...   \n",
      "\n",
      "                                         references  University  \\\n",
      "0  https://impact.cib.gov.lb/home#open_data_section        15.0   \n",
      "1  https://impact.cib.gov.lb/home#open_data_section         NaN   \n",
      "2  https://impact.cib.gov.lb/home#open_data_section         0.0   \n",
      "3  https://impact.cib.gov.lb/home#open_data_section        20.0   \n",
      "4  https://impact.cib.gov.lb/home#open_data_section        17.0   \n",
      "\n",
      "          publisher  Secondary  Intermediate  Vocational  Elementary  \\\n",
      "0  Impact Open Data       15.0          30.0        10.0        25.0   \n",
      "1  Impact Open Data        NaN           NaN         NaN         NaN   \n",
      "2  Impact Open Data        0.0          30.0         0.0        50.0   \n",
      "3  Impact Open Data       15.0          20.0        10.0        10.0   \n",
      "4  Impact Open Data       30.0          20.0         3.0        17.0   \n",
      "\n",
      "   HigherEducation                      Town  \\\n",
      "0              3.0                     Bireh   \n",
      "1              NaN  A'Ain El-Mir (El Establ)   \n",
      "2              5.0     Aaridet Cheikh Zennad   \n",
      "3             20.0                      Aaba   \n",
      "4             10.0                 Aabadiyeh   \n",
      "\n",
      "                                             dataset  \\\n",
      "0  http://linked.aub.edu.lb/CODEC/Lebanon/Dataset...   \n",
      "1  http://linked.aub.edu.lb/CODEC/Lebanon/Dataset...   \n",
      "2  http://linked.aub.edu.lb/CODEC/Lebanon/Dataset...   \n",
      "3  http://linked.aub.edu.lb/CODEC/Lebanon/Dataset...   \n",
      "4  http://linked.aub.edu.lb/CODEC/Lebanon/Dataset...   \n",
      "\n",
      "                 Governorate         District  \n",
      "0  Mount Lebanon Governorate             None  \n",
      "1          South Governorate             None  \n",
      "2          Akkar Governorate             None  \n",
      "3          North Governorate             None  \n",
      "4  Mount Lebanon Governorate  Baabda District  \n"
     ]
    }
   ],
   "source": [
    "#STEP1 - LOADING & CLEANING AND STANDARDIZING COLUMN NAMES\n",
    "\n",
    "# Load datasets\n",
    "df_resource = pd.read_csv('data/educationresource.csv')\n",
    "df_level = pd.read_csv('data/educationlevel.csv')\n",
    "\n",
    "# -----------------------------\n",
    "# Step 1: Extract Governorate and District from refArea\n",
    "# -----------------------------\n",
    "def extract_location(url):\n",
    "    if pd.isna(url):\n",
    "        return pd.Series([None, None])\n",
    "    name = url.split(\"/\")[-1].replace(\"_\", \" \").strip()\n",
    "    if \"Governorate\" in name:\n",
    "        return pd.Series([name, None])\n",
    "    elif \"District\" in name:\n",
    "        return pd.Series([None, name])\n",
    "    else:\n",
    "        return pd.Series([None, None])\n",
    "\n",
    "df_resource[['Governorate', 'District']] = df_resource['refArea'].apply(extract_location)\n",
    "df_level[['Governorate', 'District']] = df_level['refArea'].apply(extract_location)\n",
    "\n",
    "# -----------------------------\n",
    "# Step 2: Clean Town names\n",
    "# -----------------------------\n",
    "def clean_town(town):\n",
    "    if pd.isna(town):\n",
    "        return town\n",
    "    return town.strip().title()  # Strip spaces and normalize capitalization\n",
    "\n",
    "df_resource['Town'] = df_resource['Town'].apply(clean_town)\n",
    "df_level['Town'] = df_level['Town'].apply(clean_town)\n",
    "\n",
    "# -----------------------------\n",
    "# Step 3: Convert numeric columns to float/int\n",
    "# -----------------------------\n",
    "def convert_numeric(df):\n",
    "    for col in df.columns:\n",
    "        # Skip non-numeric columns\n",
    "        if df[col].dtype == 'object' and col not in ['refArea', 'Observation URI', 'references', 'publisher', 'dataset', 'Town', 'Governorate', 'District']:\n",
    "            df[col] = pd.to_numeric(df[col], errors='coerce')\n",
    "    return df\n",
    "\n",
    "df_resource = convert_numeric(df_resource)\n",
    "df_level = convert_numeric(df_level)\n",
    "\n",
    "# -----------------------------\n",
    "# Step 4: Simplify column names\n",
    "# -----------------------------\n",
    "df_resource.rename(columns={\n",
    "    'Existence of educational resources - exists': 'EduResourceExists',\n",
    "    'Existence of educational resources - does not exist': 'EduResourceMissing',\n",
    "    'Type and size of educational resources - vocational institute': 'VocationalInstitutes',\n",
    "    'Type and size of educational resources - public schools': 'PublicSchools',\n",
    "    'Type and size of educational resources - universities': 'Universities',\n",
    "    'Type and size of educational resources - private schools': 'PrivateSchools',\n",
    "    'Nb of universities by type - Lebanese University branches': 'LebaneseUniBranches',\n",
    "    'Nb of universities by type - Private universities': 'PrivateUniBranches',\n",
    "    'Public school coverage index (number of schools per citizen)': 'PublicSchoolCoverage'\n",
    "}, inplace=True)\n",
    "\n",
    "df_level.rename(columns={\n",
    "    'PercentageofEducationlevelofresidents-illeterate': 'Illiteracy',\n",
    "    'PercentageofSchooldropout': 'SchoolDropout',\n",
    "    'PercentageofEducationlevelofresidents-university': 'University',\n",
    "    'PercentageofEducationlevelofresidents-secondary': 'Secondary',\n",
    "    'PercentageofEducationlevelofresidents-intermediate': 'Intermediate',\n",
    "    'PercentageofEducationlevelofresidents-vocational': 'Vocational',\n",
    "    'PercentageofEducationlevelofresidents-elementary': 'Elementary',\n",
    "    'PercentageofEducationlevelofresidents-highereducation': 'HigherEducation'\n",
    "}, inplace=True)\n",
    "\n",
    "# -----------------------------\n",
    "# Step 5 (Optional): Fill missing Governorate using District mapping\n",
    "# -----------------------------\n",
    "district_to_governorate = {\n",
    "    \"Baabda District\": \"Mount Lebanon Governorate\",\n",
    "    \"Aley District\": \"Mount Lebanon Governorate\",\n",
    "    \"Metn District\": \"Mount Lebanon Governorate\",\n",
    "    \"Keserwan District\": \"Mount Lebanon Governorate\",\n",
    "    \"Jbeil District\": \"Mount Lebanon Governorate\",\n",
    "    \"Chouf District\": \"Mount Lebanon Governorate\",\n",
    "    \"Zgharta District\": \"North Governorate\",\n",
    "    \"Koura District\": \"North Governorate\",\n",
    "    \"Batroun District\": \"North Governorate\",\n",
    "    \"Bcharre District\": \"North Governorate\",\n",
    "    \"Miniyeh-Danniyeh District\": \"North Governorate\",\n",
    "    \"Akkar District\": \"Akkar Governorate\",\n",
    "    \"Saida District\": \"South Governorate\",\n",
    "    \"Tyre District\": \"South Governorate\",\n",
    "    \"Bint Jbeil District\": \"South Governorate\",\n",
    "    \"Nabatieh District\": \"South Governorate\",\n",
    "    \"Marjeyoun District\": \"South Governorate\",\n",
    "    \"Hasbaya District\": \"South Governorate\",\n",
    "    \"Beqaa District\": \"Beqaa Governorate\",\n",
    "    \"West Beqaa District\": \"Beqaa Governorate\",\n",
    "    \"Rashaya District\": \"Beqaa Governorate\",\n",
    "    \"Zahle District\": \"Beqaa Governorate\",\n",
    "    \"Baalbek District\": \"Baalbek-Hermel Governorate\",\n",
    "    \"Hermel District\": \"Baalbek-Hermel Governorate\"\n",
    "}\n",
    "\n",
    "for df in [df_resource, df_level]:\n",
    "    df['Governorate'] = df.apply(\n",
    "        lambda row: district_to_governorate.get(row['District'], row['Governorate']),\n",
    "        axis=1\n",
    "    )\n",
    "\n",
    "# -----------------------------\n",
    "print(df_resource.head())\n",
    "print(df_level.head())\n"
   ]
  },
  {
   "cell_type": "code",
   "execution_count": 6,
   "id": "8742f1d8",
   "metadata": {},
   "outputs": [
    {
     "name": "stdout",
     "output_type": "stream",
     "text": [
      "✅ Both cleaned datasets saved as 'educationresource_cleaned.csv' and 'educationlevel_cleaned.csv'.\n"
     ]
    }
   ],
   "source": [
    "# Saving cleaned datasets to see them locally and proof read if the cleaning worked\n",
    "df_resource.to_csv('educationresource_cleaned.csv', index=False)\n",
    "df_level.to_csv('educationlevel_cleaned.csv', index=False)\n",
    "\n",
    "print(\"✅ Both cleaned datasets saved as 'educationresource_cleaned.csv' and 'educationlevel_cleaned.csv'.\")\n"
   ]
  },
  {
   "cell_type": "code",
   "execution_count": 7,
   "id": "6840c6fd",
   "metadata": {},
   "outputs": [
    {
     "name": "stdout",
     "output_type": "stream",
     "text": [
      "✅ Datasets merged and saved as 'education_merged.csv'\n",
      "         Governorate District              Town  \\\n",
      "0  Akkar Governorate     None      Aain Ez-Zeit   \n",
      "1  Akkar Governorate     None        Aain Tinta   \n",
      "2  Akkar Governorate     None      Aain Yaaqoub   \n",
      "3  Akkar Governorate     None            Aaiyat   \n",
      "4  Akkar Governorate     None  Aakkar El-Aatiqa   \n",
      "\n",
      "                             refArea_resource  \\\n",
      "0  https://dbpedia.org/page/Akkar_Governorate   \n",
      "1  https://dbpedia.org/page/Akkar_Governorate   \n",
      "2  https://dbpedia.org/page/Akkar_Governorate   \n",
      "3  https://dbpedia.org/page/Akkar_Governorate   \n",
      "4  https://dbpedia.org/page/Akkar_Governorate   \n",
      "\n",
      "                                refArea_level  EduResourceExists  \\\n",
      "0  https://dbpedia.org/page/Akkar_Governorate                  1   \n",
      "1  https://dbpedia.org/page/Akkar_Governorate                  1   \n",
      "2  https://dbpedia.org/page/Akkar_Governorate                  1   \n",
      "3  https://dbpedia.org/page/Akkar_Governorate                  1   \n",
      "4  https://dbpedia.org/page/Akkar_Governorate                  1   \n",
      "\n",
      "   VocationalInstitutes                           Observation URI_resource  \\\n",
      "0                     0  http://linked.aub.edu.lb/CODEC/Lebanon/observa...   \n",
      "1                     1  http://linked.aub.edu.lb/CODEC/Lebanon/observa...   \n",
      "2                     1  http://linked.aub.edu.lb/CODEC/Lebanon/observa...   \n",
      "3                     0  http://linked.aub.edu.lb/CODEC/Lebanon/observa...   \n",
      "4                     1  http://linked.aub.edu.lb/CODEC/Lebanon/observa...   \n",
      "\n",
      "                                references_resource publisher_resource  ...  \\\n",
      "0  https://impact.cib.gov.lb/home#open_data_section   Impact Open Data  ...   \n",
      "1  https://impact.cib.gov.lb/home#open_data_section   Impact Open Data  ...   \n",
      "2  https://impact.cib.gov.lb/home#open_data_section   Impact Open Data  ...   \n",
      "3  https://impact.cib.gov.lb/home#open_data_section   Impact Open Data  ...   \n",
      "4  https://impact.cib.gov.lb/home#open_data_section   Impact Open Data  ...   \n",
      "\n",
      "                               Observation URI_level  \\\n",
      "0  http://linked.aub.edu.lb/CODEC/Lebanon/observa...   \n",
      "1  http://linked.aub.edu.lb/CODEC/Lebanon/observa...   \n",
      "2  http://linked.aub.edu.lb/CODEC/Lebanon/observa...   \n",
      "3  http://linked.aub.edu.lb/CODEC/Lebanon/observa...   \n",
      "4  http://linked.aub.edu.lb/CODEC/Lebanon/observa...   \n",
      "\n",
      "                                   references_level  University  \\\n",
      "0  https://impact.cib.gov.lb/home#open_data_section        15.0   \n",
      "1  https://impact.cib.gov.lb/home#open_data_section        15.0   \n",
      "2  https://impact.cib.gov.lb/home#open_data_section        20.0   \n",
      "3  https://impact.cib.gov.lb/home#open_data_section        10.0   \n",
      "4  https://impact.cib.gov.lb/home#open_data_section        15.0   \n",
      "\n",
      "    publisher_level  Secondary  Intermediate Vocational  Elementary  \\\n",
      "0  Impact Open Data       15.0          15.0       15.0        15.0   \n",
      "1  Impact Open Data       50.0          30.0        1.0         2.0   \n",
      "2  Impact Open Data       20.0          15.0       20.0        15.0   \n",
      "3  Impact Open Data       20.0          30.0        5.0        30.0   \n",
      "4  Impact Open Data       20.0          20.0       10.0        20.0   \n",
      "\n",
      "   HigherEducation                                      dataset_level  \n",
      "0              5.0  http://linked.aub.edu.lb/CODEC/Lebanon/Dataset...  \n",
      "1              1.0  http://linked.aub.edu.lb/CODEC/Lebanon/Dataset...  \n",
      "2              5.0  http://linked.aub.edu.lb/CODEC/Lebanon/Dataset...  \n",
      "3              3.0  http://linked.aub.edu.lb/CODEC/Lebanon/Dataset...  \n",
      "4              5.0  http://linked.aub.edu.lb/CODEC/Lebanon/Dataset...  \n",
      "\n",
      "[5 rows x 30 columns]\n"
     ]
    }
   ],
   "source": [
    "# STEP 3 - NOW THAT EVERYTHING IS CLEANED AND STANDARDISED WE MERGE \n",
    "\n",
    "# Merge datasets on Governorate + District + Town\n",
    "df_merged = pd.merge(\n",
    "    df_resource,\n",
    "    df_level,\n",
    "    on=['Governorate', 'District', 'Town'],\n",
    "    how='outer',  # use 'outer' to keep all rows from both datasets\n",
    "    suffixes=('_resource', '_level')\n",
    ")\n",
    "\n",
    "# Optional: reorder columns for readability\n",
    "cols_order = ['Governorate', 'District', 'Town', 'refArea_resource', 'refArea_level'] + \\\n",
    "             [col for col in df_merged.columns if col not in ['Governorate', 'District', 'Town', 'refArea_resource', 'refArea_level']]\n",
    "\n",
    "df_merged = df_merged[cols_order]\n",
    "\n",
    "# Save merged dataset\n",
    "df_merged.to_csv('education_merged.csv', index=False)\n",
    "\n",
    "print(\"✅ Datasets merged and saved as 'education_merged.csv'\")\n",
    "print(df_merged.head())\n"
   ]
  },
  {
   "cell_type": "code",
   "execution_count": 8,
   "id": "bc378c78",
   "metadata": {},
   "outputs": [
    {
     "name": "stdout",
     "output_type": "stream",
     "text": [
      "\n",
      "===== AUDIT REPORT: Education Resources =====\n",
      "\n",
      "1️⃣ Missing Values per Column:\n",
      "refArea                   0\n",
      "EduResourceExists         0\n",
      "VocationalInstitutes      0\n",
      "Observation URI           0\n",
      "references                0\n",
      "publisher                 0\n",
      "EduResourceMissing        0\n",
      "LebaneseUniBranches       0\n",
      "PublicSchoolCoverage      0\n",
      "PublicSchools             0\n",
      "Universities              0\n",
      "Town                      0\n",
      "PrivateUniBranches        0\n",
      "dataset                   0\n",
      "PrivateSchools            0\n",
      "Governorate             317\n",
      "District                448\n",
      "dtype: int64\n",
      "\n",
      "2️⃣ Duplicate Rows:\n",
      "Total duplicate rows: 0\n",
      "Duplicate Town-District-Governorate entries: 0\n",
      "\n",
      "3️⃣ Unique Categorical Values (first 50 shown):\n",
      "refArea: ['https://dbpedia.org/page/Mount_Lebanon_Governorate'\n",
      " 'https://dbpedia.org/page/South_Governorate'\n",
      " 'https://dbpedia.org/page/Akkar_Governorate'\n",
      " 'https://dbpedia.org/page/North_Governorate'\n",
      " 'http://dbpedia.org/resource/Baabda_District'\n",
      " 'http://dbpedia.org/resource/Byblos_District'\n",
      " 'https://dbpedia.org/page/Nabatieh_Governorate'\n",
      " 'http://dbpedia.org/resource/Tyre_District'\n",
      " 'http://dbpedia.org/resource/Bsharri_District'\n",
      " 'http://dbpedia.org/resource/Sidon_District'\n",
      " 'http://dbpedia.org/resource/Batroun_District'\n",
      " 'http://dbpedia.org/resource/Zgharta_District'\n",
      " 'http://dbpedia.org/resource/Keserwan_District'\n",
      " 'http://dbpedia.org/resource/Marjeyoun_District'\n",
      " 'http://dbpedia.org/resource/Aley_District'\n",
      " 'https://dbpedia.org/page/Beqaa_Governorate'\n",
      " 'http://dbpedia.org/resource/Matn_District'\n",
      " 'http://dbpedia.org/resource/Miniyehâ\\x80\\x93Danniyeh_District'\n",
      " 'http://dbpedia.org/resource/Bint_Jbeil_District'\n",
      " 'http://dbpedia.org/resource/Hasbaya_District'\n",
      " 'http://dbpedia.org/resource/ZahlÃ©_District'\n",
      " 'http://dbpedia.org/resource/Western_Beqaa_District'\n",
      " 'https://dbpedia.org/page/Baalbek-Hermel_Governorate'\n",
      " 'http://dbpedia.org/resource/Tripoli_District,_Lebanon'\n",
      " 'http://dbpedia.org/resource/Beqaa_Governorate'\n",
      " 'http://dbpedia.org/resource/Hermel_District'\n",
      " 'http://dbpedia.org/resource/Nabatieh_Governorate']\n",
      "Observation URI: ['http://linked.aub.edu.lb/CODEC/Lebanon/observation/Educational_Resources-+Bireh'\n",
      " 'http://linked.aub.edu.lb/CODEC/Lebanon/observation/Educational_Resources-A%27ain+El-Mir+%28El+Establ%29'\n",
      " 'http://linked.aub.edu.lb/CODEC/Lebanon/observation/Educational_Resources-AAridet+Cheikh+Zennad'\n",
      " 'http://linked.aub.edu.lb/CODEC/Lebanon/observation/Educational_Resources-Aaba'\n",
      " 'http://linked.aub.edu.lb/CODEC/Lebanon/observation/Educational_Resources-Aabadiyeh'\n",
      " 'http://linked.aub.edu.lb/CODEC/Lebanon/observation/Educational_Resources-Aabaydat'\n",
      " 'http://linked.aub.edu.lb/CODEC/Lebanon/observation/Educational_Resources-Aabba'\n",
      " 'http://linked.aub.edu.lb/CODEC/Lebanon/observation/Educational_Resources-Aabbesiyyi'\n",
      " 'http://linked.aub.edu.lb/CODEC/Lebanon/observation/Educational_Resources-Aabdine'\n",
      " 'http://linked.aub.edu.lb/CODEC/Lebanon/observation/Educational_Resources-Aabra+Saida'\n",
      " 'http://linked.aub.edu.lb/CODEC/Lebanon/observation/Educational_Resources-Aabrine'\n",
      " 'http://linked.aub.edu.lb/CODEC/Lebanon/observation/Educational_Resources-Aachach'\n",
      " 'http://linked.aub.edu.lb/CODEC/Lebanon/observation/Educational_Resources-Aachqout'\n",
      " 'http://linked.aub.edu.lb/CODEC/Lebanon/observation/Educational_Resources-Aadaysseh+Marjaayoun'\n",
      " 'http://linked.aub.edu.lb/CODEC/Lebanon/observation/Educational_Resources-Aadchit+Ech-Chqif'\n",
      " 'http://linked.aub.edu.lb/CODEC/Lebanon/observation/Educational_Resources-Aadchit+El-Qoussair'\n",
      " 'http://linked.aub.edu.lb/CODEC/Lebanon/observation/Educational_Resources-Aadloun'\n",
      " 'http://linked.aub.edu.lb/CODEC/Lebanon/observation/Educational_Resources-Aadoussiyeh'\n",
      " 'http://linked.aub.edu.lb/CODEC/Lebanon/observation/Educational_Resources-Aafsdiq'\n",
      " 'http://linked.aub.edu.lb/CODEC/Lebanon/observation/Educational_Resources-Aain+Aanoub'\n",
      " 'http://linked.aub.edu.lb/CODEC/Lebanon/observation/Educational_Resources-Aain+Aarab+Rachaya'\n",
      " 'http://linked.aub.edu.lb/CODEC/Lebanon/observation/Educational_Resources-Aain+Aata'\n",
      " 'http://linked.aub.edu.lb/CODEC/Lebanon/observation/Educational_Resources-Aain+Dara'\n",
      " 'http://linked.aub.edu.lb/CODEC/Lebanon/observation/Educational_Resources-Aain+Drafil'\n",
      " 'http://linked.aub.edu.lb/CODEC/Lebanon/observation/Educational_Resources-Aain+Ed-Delb'\n",
      " 'http://linked.aub.edu.lb/CODEC/Lebanon/observation/Educational_Resources-Aain+Ed-Delbe'\n",
      " 'http://linked.aub.edu.lb/CODEC/Lebanon/observation/Educational_Resources-Aain+Ej-Jdideh+Aaley'\n",
      " 'http://linked.aub.edu.lb/CODEC/Lebanon/observation/Educational_Resources-Aain+El+Saydeh'\n",
      " 'http://linked.aub.edu.lb/CODEC/Lebanon/observation/Educational_Resources-Aain+El-Ghouaybeh'\n",
      " 'http://linked.aub.edu.lb/CODEC/Lebanon/observation/Educational_Resources-Aain+El-Kharroubeh'\n",
      " 'http://linked.aub.edu.lb/CODEC/Lebanon/observation/Educational_Resources-Aain+El-Qabu'\n",
      " 'http://linked.aub.edu.lb/CODEC/Lebanon/observation/Educational_Resources-Aain+Er-Rihane'\n",
      " 'http://linked.aub.edu.lb/CODEC/Lebanon/observation/Educational_Resources-Aain+Er-Roummaneh+Aaley'\n",
      " 'http://linked.aub.edu.lb/CODEC/Lebanon/observation/Educational_Resources-Aain+Es-Sindiane'\n",
      " 'http://linked.aub.edu.lb/CODEC/Lebanon/observation/Educational_Resources-Aain+Et-Teffaha'\n",
      " 'http://linked.aub.edu.lb/CODEC/Lebanon/observation/Educational_Resources-Aain+Et-Tineh-Miniyeh'\n",
      " 'http://linked.aub.edu.lb/CODEC/Lebanon/observation/Educational_Resources-Aain+Ez-Zeit'\n",
      " 'http://linked.aub.edu.lb/CODEC/Lebanon/observation/Educational_Resources-Aain+Ez-Zeitouneh'\n",
      " 'http://linked.aub.edu.lb/CODEC/Lebanon/observation/Educational_Resources-Aain+Fraidis'\n",
      " 'http://linked.aub.edu.lb/CODEC/Lebanon/observation/Educational_Resources-Aain+Harsha'\n",
      " 'http://linked.aub.edu.lb/CODEC/Lebanon/observation/Educational_Resources-Aain+Ibl'\n",
      " 'http://linked.aub.edu.lb/CODEC/Lebanon/observation/Educational_Resources-Aain+Jarfa'\n",
      " 'http://linked.aub.edu.lb/CODEC/Lebanon/observation/Educational_Resources-Aain+Jrain'\n",
      " 'http://linked.aub.edu.lb/CODEC/Lebanon/observation/Educational_Resources-Aain+Kfaa'\n",
      " 'http://linked.aub.edu.lb/CODEC/Lebanon/observation/Educational_Resources-Aain+Kfar+Zabad'\n",
      " 'http://linked.aub.edu.lb/CODEC/Lebanon/observation/Educational_Resources-Aain+Ksour'\n",
      " 'http://linked.aub.edu.lb/CODEC/Lebanon/observation/Educational_Resources-Aain+Mouaffaq'\n",
      " 'http://linked.aub.edu.lb/CODEC/Lebanon/observation/Educational_Resources-Aain+Ouzain'\n",
      " 'http://linked.aub.edu.lb/CODEC/Lebanon/observation/Educational_Resources-Aain+Qana'\n",
      " 'http://linked.aub.edu.lb/CODEC/Lebanon/observation/Educational_Resources-Aain+Qania']\n",
      "references: ['https://impact.cib.gov.lb/home#open_data_section']\n",
      "publisher: ['Impact Open Data']\n",
      "Town: ['Bireh' \"A'Ain El-Mir (El Establ)\" 'Aaridet Cheikh Zennad' 'Aaba'\n",
      " 'Aabadiyeh' 'Aabaydat' 'Aabba' 'Aabbesiyyi' 'Aabdine' 'Aabra Saida'\n",
      " 'Aabrine' 'Aachach' 'Aachqout' 'Aadaysseh Marjaayoun' 'Aadchit Ech-Chqif'\n",
      " 'Aadchit El-Qoussair' 'Aadloun' 'Aadoussiyeh' 'Aafsdiq' 'Aain Aanoub'\n",
      " 'Aain Aarab Rachaya' 'Aain Aata' 'Aain Dara' 'Aain Drafil' 'Aain Ed-Delb'\n",
      " 'Aain Ed-Delbe' 'Aain Ej-Jdideh Aaley' 'Aain El Saydeh'\n",
      " 'Aain El-Ghouaybeh' 'Aain El-Kharroubeh' 'Aain El-Qabu' 'Aain Er-Rihane'\n",
      " 'Aain Er-Roummaneh Aaley' 'Aain Es-Sindiane' 'Aain Et-Teffaha'\n",
      " 'Aain Et-Tineh-Miniyeh' 'Aain Ez-Zeit' 'Aain Ez-Zeitouneh' 'Aain Fraidis'\n",
      " 'Aain Harsha' 'Aain Ibl' 'Aain Jarfa' 'Aain Jrain' 'Aain Kfaa'\n",
      " 'Aain Kfar Zabad' 'Aain Ksour' 'Aain Mouaffaq' 'Aain Ouzain' 'Aain Qana'\n",
      " 'Aain Qania']\n",
      "dataset: ['http://linked.aub.edu.lb/CODEC/Lebanon/Dataset/Educational_Resources-Lebanon-2023']\n",
      "Governorate: ['Mount Lebanon Governorate' 'South Governorate' 'Akkar Governorate'\n",
      " 'North Governorate' None 'Nabatieh Governorate' 'Beqaa Governorate'\n",
      " 'Baalbek-Hermel Governorate']\n",
      "District: [None 'Baabda District' 'Byblos District' 'Tyre District'\n",
      " 'Bsharri District' 'Sidon District' 'Batroun District' 'Zgharta District'\n",
      " 'Keserwan District' 'Marjeyoun District' 'Aley District' 'Matn District'\n",
      " 'Miniyehâ\\x80\\x93Danniyeh District' 'Bint Jbeil District'\n",
      " 'Hasbaya District' 'ZahlÃ© District' 'Western Beqaa District'\n",
      " 'Tripoli District, Lebanon' 'Hermel District']\n",
      "\n",
      "4️⃣ Numeric Columns Summary:\n",
      "       EduResourceExists  VocationalInstitutes  EduResourceMissing  \\\n",
      "count        1137.000000           1137.000000         1137.000000   \n",
      "mean            0.470536              0.241865            0.380827   \n",
      "std             0.499351              1.772364            0.485804   \n",
      "min             0.000000              0.000000            0.000000   \n",
      "25%             0.000000              0.000000            0.000000   \n",
      "50%             0.000000              0.000000            0.000000   \n",
      "75%             1.000000              0.000000            1.000000   \n",
      "max             1.000000             56.000000            1.000000   \n",
      "\n",
      "       LebaneseUniBranches  PublicSchoolCoverage  PublicSchools  Universities  \\\n",
      "count          1137.000000           1137.000000    1137.000000   1137.000000   \n",
      "mean              0.031662           2087.286719       0.912929      0.094987   \n",
      "std               0.249754           5744.813964       3.330184      0.575116   \n",
      "min               0.000000              0.000000       0.000000      0.000000   \n",
      "25%               0.000000              0.000000       0.000000      0.000000   \n",
      "50%               0.000000              0.000000       0.000000      0.000000   \n",
      "75%               0.000000           2300.000000       1.000000      0.000000   \n",
      "max               5.000000          82000.000000      89.000000     10.000000   \n",
      "\n",
      "       PrivateUniBranches  PrivateSchools  \n",
      "count         1137.000000     1137.000000  \n",
      "mean             0.063325        0.910290  \n",
      "std              0.390739        3.765444  \n",
      "min              0.000000        0.000000  \n",
      "25%              0.000000        0.000000  \n",
      "50%              0.000000        0.000000  \n",
      "75%              0.000000        1.000000  \n",
      "max              8.000000       63.000000  \n",
      "\n",
      "5️⃣ Negative Values in Numeric Columns:\n",
      "\n",
      "6️⃣ String Cleaning Suggestions:\n",
      "Town: 0 entries with non-ASCII characters\n",
      "District: 73 entries with non-ASCII characters\n",
      "Governorate: 0 entries with non-ASCII characters\n",
      "\n",
      "===== END OF AUDIT: Education Resources =====\n",
      "\n",
      "\n",
      "===== AUDIT REPORT: Education Levels =====\n",
      "\n",
      "1️⃣ Missing Values per Column:\n",
      "refArea              0\n",
      "Illiteracy         188\n",
      "SchoolDropout      198\n",
      "Observation URI      0\n",
      "references           0\n",
      "University         194\n",
      "publisher            0\n",
      "Secondary          193\n",
      "Intermediate       192\n",
      "Vocational         196\n",
      "Elementary         192\n",
      "HigherEducation    198\n",
      "Town                 0\n",
      "dataset              0\n",
      "Governorate        317\n",
      "District           448\n",
      "dtype: int64\n",
      "\n",
      "2️⃣ Duplicate Rows:\n",
      "Total duplicate rows: 0\n",
      "Duplicate Town-District-Governorate entries: 0\n",
      "\n",
      "3️⃣ Unique Categorical Values (first 50 shown):\n",
      "refArea: ['https://dbpedia.org/page/Mount_Lebanon_Governorate'\n",
      " 'https://dbpedia.org/page/South_Governorate'\n",
      " 'https://dbpedia.org/page/Akkar_Governorate'\n",
      " 'https://dbpedia.org/page/North_Governorate'\n",
      " 'http://dbpedia.org/resource/Baabda_District'\n",
      " 'http://dbpedia.org/resource/Byblos_District'\n",
      " 'https://dbpedia.org/page/Nabatieh_Governorate'\n",
      " 'http://dbpedia.org/resource/Tyre_District'\n",
      " 'http://dbpedia.org/resource/Bsharri_District'\n",
      " 'http://dbpedia.org/resource/Sidon_District'\n",
      " 'http://dbpedia.org/resource/Batroun_District'\n",
      " 'http://dbpedia.org/resource/Zgharta_District'\n",
      " 'http://dbpedia.org/resource/Keserwan_District'\n",
      " 'http://dbpedia.org/resource/Marjeyoun_District'\n",
      " 'http://dbpedia.org/resource/Aley_District'\n",
      " 'https://dbpedia.org/page/Beqaa_Governorate'\n",
      " 'http://dbpedia.org/resource/Matn_District'\n",
      " 'http://dbpedia.org/resource/Miniyehâ\\x80\\x93Danniyeh_District'\n",
      " 'http://dbpedia.org/resource/Bint_Jbeil_District'\n",
      " 'http://dbpedia.org/resource/Hasbaya_District'\n",
      " 'http://dbpedia.org/resource/ZahlÃ©_District'\n",
      " 'http://dbpedia.org/resource/Western_Beqaa_District'\n",
      " 'https://dbpedia.org/page/Baalbek-Hermel_Governorate'\n",
      " 'http://dbpedia.org/resource/Tripoli_District,_Lebanon'\n",
      " 'http://dbpedia.org/resource/Beqaa_Governorate'\n",
      " 'http://dbpedia.org/resource/Hermel_District'\n",
      " 'http://dbpedia.org/resource/Nabatieh_Governorate']\n",
      "Observation URI: ['http://linked.aub.edu.lb/CODEC/Lebanon/observation/Educational_Level-+Bireh'\n",
      " 'http://linked.aub.edu.lb/CODEC/Lebanon/observation/Educational_Level-A%27ain+El-Mir+%28El+Establ%29'\n",
      " 'http://linked.aub.edu.lb/CODEC/Lebanon/observation/Educational_Level-AAridet+Cheikh+Zennad'\n",
      " 'http://linked.aub.edu.lb/CODEC/Lebanon/observation/Educational_Level-Aaba'\n",
      " 'http://linked.aub.edu.lb/CODEC/Lebanon/observation/Educational_Level-Aabadiyeh'\n",
      " 'http://linked.aub.edu.lb/CODEC/Lebanon/observation/Educational_Level-Aabaydat'\n",
      " 'http://linked.aub.edu.lb/CODEC/Lebanon/observation/Educational_Level-Aabba'\n",
      " 'http://linked.aub.edu.lb/CODEC/Lebanon/observation/Educational_Level-Aabbesiyyi'\n",
      " 'http://linked.aub.edu.lb/CODEC/Lebanon/observation/Educational_Level-Aabdine'\n",
      " 'http://linked.aub.edu.lb/CODEC/Lebanon/observation/Educational_Level-Aabra+Saida'\n",
      " 'http://linked.aub.edu.lb/CODEC/Lebanon/observation/Educational_Level-Aabrine'\n",
      " 'http://linked.aub.edu.lb/CODEC/Lebanon/observation/Educational_Level-Aachach'\n",
      " 'http://linked.aub.edu.lb/CODEC/Lebanon/observation/Educational_Level-Aachqout'\n",
      " 'http://linked.aub.edu.lb/CODEC/Lebanon/observation/Educational_Level-Aadaysseh+Marjaayoun'\n",
      " 'http://linked.aub.edu.lb/CODEC/Lebanon/observation/Educational_Level-Aadchit+Ech-Chqif'\n",
      " 'http://linked.aub.edu.lb/CODEC/Lebanon/observation/Educational_Level-Aadchit+El-Qoussair'\n",
      " 'http://linked.aub.edu.lb/CODEC/Lebanon/observation/Educational_Level-Aadloun'\n",
      " 'http://linked.aub.edu.lb/CODEC/Lebanon/observation/Educational_Level-Aadoussiyeh'\n",
      " 'http://linked.aub.edu.lb/CODEC/Lebanon/observation/Educational_Level-Aafsdiq'\n",
      " 'http://linked.aub.edu.lb/CODEC/Lebanon/observation/Educational_Level-Aain+Aanoub'\n",
      " 'http://linked.aub.edu.lb/CODEC/Lebanon/observation/Educational_Level-Aain+Aarab+Rachaya'\n",
      " 'http://linked.aub.edu.lb/CODEC/Lebanon/observation/Educational_Level-Aain+Aata'\n",
      " 'http://linked.aub.edu.lb/CODEC/Lebanon/observation/Educational_Level-Aain+Dara'\n",
      " 'http://linked.aub.edu.lb/CODEC/Lebanon/observation/Educational_Level-Aain+Drafil'\n",
      " 'http://linked.aub.edu.lb/CODEC/Lebanon/observation/Educational_Level-Aain+Ed-Delb'\n",
      " 'http://linked.aub.edu.lb/CODEC/Lebanon/observation/Educational_Level-Aain+Ed-Delbe'\n",
      " 'http://linked.aub.edu.lb/CODEC/Lebanon/observation/Educational_Level-Aain+Ej-Jdideh+Aaley'\n",
      " 'http://linked.aub.edu.lb/CODEC/Lebanon/observation/Educational_Level-Aain+El+Saydeh'\n",
      " 'http://linked.aub.edu.lb/CODEC/Lebanon/observation/Educational_Level-Aain+El-Ghouaybeh'\n",
      " 'http://linked.aub.edu.lb/CODEC/Lebanon/observation/Educational_Level-Aain+El-Kharroubeh'\n",
      " 'http://linked.aub.edu.lb/CODEC/Lebanon/observation/Educational_Level-Aain+El-Qabu'\n",
      " 'http://linked.aub.edu.lb/CODEC/Lebanon/observation/Educational_Level-Aain+Er-Rihane'\n",
      " 'http://linked.aub.edu.lb/CODEC/Lebanon/observation/Educational_Level-Aain+Er-Roummaneh+Aaley'\n",
      " 'http://linked.aub.edu.lb/CODEC/Lebanon/observation/Educational_Level-Aain+Es-Sindiane'\n",
      " 'http://linked.aub.edu.lb/CODEC/Lebanon/observation/Educational_Level-Aain+Et-Teffaha'\n",
      " 'http://linked.aub.edu.lb/CODEC/Lebanon/observation/Educational_Level-Aain+Et-Tineh-Miniyeh'\n",
      " 'http://linked.aub.edu.lb/CODEC/Lebanon/observation/Educational_Level-Aain+Ez-Zeit'\n",
      " 'http://linked.aub.edu.lb/CODEC/Lebanon/observation/Educational_Level-Aain+Ez-Zeitouneh'\n",
      " 'http://linked.aub.edu.lb/CODEC/Lebanon/observation/Educational_Level-Aain+Fraidis'\n",
      " 'http://linked.aub.edu.lb/CODEC/Lebanon/observation/Educational_Level-Aain+Harsha'\n",
      " 'http://linked.aub.edu.lb/CODEC/Lebanon/observation/Educational_Level-Aain+Ibl'\n",
      " 'http://linked.aub.edu.lb/CODEC/Lebanon/observation/Educational_Level-Aain+Jarfa'\n",
      " 'http://linked.aub.edu.lb/CODEC/Lebanon/observation/Educational_Level-Aain+Jrain'\n",
      " 'http://linked.aub.edu.lb/CODEC/Lebanon/observation/Educational_Level-Aain+Kfaa'\n",
      " 'http://linked.aub.edu.lb/CODEC/Lebanon/observation/Educational_Level-Aain+Kfar+Zabad'\n",
      " 'http://linked.aub.edu.lb/CODEC/Lebanon/observation/Educational_Level-Aain+Ksour'\n",
      " 'http://linked.aub.edu.lb/CODEC/Lebanon/observation/Educational_Level-Aain+Mouaffaq'\n",
      " 'http://linked.aub.edu.lb/CODEC/Lebanon/observation/Educational_Level-Aain+Ouzain'\n",
      " 'http://linked.aub.edu.lb/CODEC/Lebanon/observation/Educational_Level-Aain+Qana'\n",
      " 'http://linked.aub.edu.lb/CODEC/Lebanon/observation/Educational_Level-Aain+Qania']\n",
      "references: ['https://impact.cib.gov.lb/home#open_data_section']\n",
      "publisher: ['Impact Open Data']\n",
      "Town: ['Bireh' \"A'Ain El-Mir (El Establ)\" 'Aaridet Cheikh Zennad' 'Aaba'\n",
      " 'Aabadiyeh' 'Aabaydat' 'Aabba' 'Aabbesiyyi' 'Aabdine' 'Aabra Saida'\n",
      " 'Aabrine' 'Aachach' 'Aachqout' 'Aadaysseh Marjaayoun' 'Aadchit Ech-Chqif'\n",
      " 'Aadchit El-Qoussair' 'Aadloun' 'Aadoussiyeh' 'Aafsdiq' 'Aain Aanoub'\n",
      " 'Aain Aarab Rachaya' 'Aain Aata' 'Aain Dara' 'Aain Drafil' 'Aain Ed-Delb'\n",
      " 'Aain Ed-Delbe' 'Aain Ej-Jdideh Aaley' 'Aain El Saydeh'\n",
      " 'Aain El-Ghouaybeh' 'Aain El-Kharroubeh' 'Aain El-Qabu' 'Aain Er-Rihane'\n",
      " 'Aain Er-Roummaneh Aaley' 'Aain Es-Sindiane' 'Aain Et-Teffaha'\n",
      " 'Aain Et-Tineh-Miniyeh' 'Aain Ez-Zeit' 'Aain Ez-Zeitouneh' 'Aain Fraidis'\n",
      " 'Aain Harsha' 'Aain Ibl' 'Aain Jarfa' 'Aain Jrain' 'Aain Kfaa'\n",
      " 'Aain Kfar Zabad' 'Aain Ksour' 'Aain Mouaffaq' 'Aain Ouzain' 'Aain Qana'\n",
      " 'Aain Qania']\n",
      "dataset: ['http://linked.aub.edu.lb/CODEC/Lebanon/Dataset/Educational_Level-Lebanon-2023']\n",
      "Governorate: ['Mount Lebanon Governorate' 'South Governorate' 'Akkar Governorate'\n",
      " 'North Governorate' None 'Nabatieh Governorate' 'Beqaa Governorate'\n",
      " 'Baalbek-Hermel Governorate']\n",
      "District: [None 'Baabda District' 'Byblos District' 'Tyre District'\n",
      " 'Bsharri District' 'Sidon District' 'Batroun District' 'Zgharta District'\n",
      " 'Keserwan District' 'Marjeyoun District' 'Aley District' 'Matn District'\n",
      " 'Miniyehâ\\x80\\x93Danniyeh District' 'Bint Jbeil District'\n",
      " 'Hasbaya District' 'ZahlÃ© District' 'Western Beqaa District'\n",
      " 'Tripoli District, Lebanon' 'Hermel District']\n",
      "\n",
      "4️⃣ Numeric Columns Summary:\n",
      "       Illiteracy  SchoolDropout  University    Secondary  Intermediate  \\\n",
      "count  949.000000     939.000000  943.000000   944.000000    945.000000   \n",
      "mean     5.741728       4.595367   20.425557    21.426059     26.570582   \n",
      "std     10.096758      10.018901   20.557460    65.095837    194.763474   \n",
      "min      0.000000       0.000000    0.000000     0.000000      0.000000   \n",
      "25%      1.000000       0.000000   10.000000    14.000000     15.000000   \n",
      "50%      3.000000       1.000000   20.000000    20.000000     20.000000   \n",
      "75%      7.000000       5.000000   25.000000    25.000000     25.000000   \n",
      "max    200.000000     100.000000  500.000000  2000.000000   6000.000000   \n",
      "\n",
      "       Vocational   Elementary  HigherEducation  \n",
      "count  941.000000   945.000000       939.000000  \n",
      "mean    10.787460    22.041799         6.125772  \n",
      "std     17.328694   130.114465         8.453321  \n",
      "min      0.000000     0.000000         0.000000  \n",
      "25%      5.000000    10.000000         2.000000  \n",
      "50%     10.000000    15.000000         5.000000  \n",
      "75%     15.000000    25.000000         8.000000  \n",
      "max    500.000000  4000.000000       100.000000  \n",
      "\n",
      "5️⃣ Negative Values in Numeric Columns:\n",
      "\n",
      "6️⃣ String Cleaning Suggestions:\n",
      "Town: 0 entries with non-ASCII characters\n",
      "District: 73 entries with non-ASCII characters\n",
      "Governorate: 0 entries with non-ASCII characters\n",
      "\n",
      "===== END OF AUDIT: Education Levels =====\n",
      "\n",
      "🔹 Towns in Resources but not in Levels:\n",
      "set()\n",
      "\n",
      "🔹 Towns in Levels but not in Resources:\n",
      "set()\n"
     ]
    }
   ],
   "source": [
    "\n",
    "def audit_dataset(df, df_name=\"Dataset\"):\n",
    "    print(f\"\\n===== AUDIT REPORT: {df_name} =====\\n\")\n",
    "    \n",
    "    # 1️⃣ Missing values\n",
    "    print(\"1️⃣ Missing Values per Column:\")\n",
    "    print(df.isna().sum())\n",
    "    \n",
    "    # 2️⃣ Duplicate rows\n",
    "    print(\"\\n2️⃣ Duplicate Rows:\")\n",
    "    print(f\"Total duplicate rows: {df.duplicated().sum()}\")\n",
    "    \n",
    "    # Duplicate towns within same district/governorate\n",
    "    if all(col in df.columns for col in ['Governorate', 'District', 'Town']):\n",
    "        dup_town = df.duplicated(subset=['Governorate', 'District', 'Town']).sum()\n",
    "        print(f\"Duplicate Town-District-Governorate entries: {dup_town}\")\n",
    "    \n",
    "    # 3️⃣ Inspect categorical columns\n",
    "    print(\"\\n3️⃣ Unique Categorical Values (first 50 shown):\")\n",
    "    for col in df.select_dtypes(include='object').columns:\n",
    "        unique_vals = df[col].unique()\n",
    "        print(f\"{col}: {unique_vals[:50]}\")\n",
    "    \n",
    "    # 4️⃣ Numeric columns check\n",
    "    print(\"\\n4️⃣ Numeric Columns Summary:\")\n",
    "    numeric_cols = df.select_dtypes(include=np.number).columns\n",
    "    print(df[numeric_cols].describe())\n",
    "    \n",
    "    # Negative values check for numeric columns\n",
    "    print(\"\\n5️⃣ Negative Values in Numeric Columns:\")\n",
    "    for col in numeric_cols:\n",
    "        neg_count = (df[col] < 0).sum()\n",
    "        if neg_count > 0:\n",
    "            print(f\"{col}: {neg_count} negative values\")\n",
    "    \n",
    "    # 5️⃣ String formatting checks\n",
    "    print(\"\\n6️⃣ String Cleaning Suggestions:\")\n",
    "    for col in ['Town', 'District', 'Governorate']:\n",
    "        if col in df.columns:\n",
    "            weird_chars = df[col].str.contains(r'[^\\x00-\\x7F]', regex=True, na=False).sum()\n",
    "            print(f\"{col}: {weird_chars} entries with non-ASCII characters\")\n",
    "    \n",
    "    print(f\"\\n===== END OF AUDIT: {df_name} =====\\n\")\n",
    "\n",
    "\n",
    "# Example usage:\n",
    "audit_dataset(df_resource, \"Education Resources\")\n",
    "audit_dataset(df_level, \"Education Levels\")\n",
    "\n",
    "# Optional: check mismatched towns between datasets\n",
    "towns_resource = set(df_resource['Town'].dropna())\n",
    "towns_level = set(df_level['Town'].dropna())\n",
    "\n",
    "print(\"🔹 Towns in Resources but not in Levels:\")\n",
    "print(towns_resource - towns_level)\n",
    "\n",
    "print(\"\\n🔹 Towns in Levels but not in Resources:\")\n",
    "print(towns_level - towns_resource)\n"
   ]
  },
  {
   "cell_type": "code",
   "execution_count": 9,
   "id": "b96bb4d9",
   "metadata": {},
   "outputs": [],
   "source": [
    "#There was some errors when i saw the merged csv with districts and governorates (encoding errors)\n",
    "# Fix non-ASCII characters in Districts\n",
    "def clean_district(district):\n",
    "    if pd.isna(district):\n",
    "        return district\n",
    "    # Replace weird chars with spaces or standardize them\n",
    "    return district.encode('latin1', errors='ignore').decode('utf-8', errors='ignore').replace('â\\x80\\x93','-').replace('Ã©','é').strip()\n",
    "\n",
    "df_resource['District'] = df_resource['District'].apply(clean_district)\n",
    "df_level['District'] = df_level['District'].apply(clean_district)\n"
   ]
  },
  {
   "cell_type": "code",
   "execution_count": 10,
   "id": "13380953",
   "metadata": {},
   "outputs": [],
   "source": [
    "district_to_governorate.update({\n",
    "    \"Miniyeh–Danniyeh District\": \"North Governorate\",\n",
    "    \"Zahlé District\": \"Beqaa Governorate\",\n",
    "    \"Tripoli District, Lebanon\": \"North Governorate\",\n",
    "    \"Western Beqaa District\": \"Beqaa Governorate\"\n",
    "})\n",
    "\n",
    "for df in [df_resource, df_level]:\n",
    "    df['Governorate'] = df.apply(\n",
    "        lambda row: district_to_governorate.get(row['District'], row['Governorate']),\n",
    "        axis=1\n",
    "    )\n"
   ]
  },
  {
   "cell_type": "code",
   "execution_count": 11,
   "id": "0794b9a0",
   "metadata": {},
   "outputs": [
    {
     "name": "stdout",
     "output_type": "stream",
     "text": [
      "210 210\n",
      "448 448\n"
     ]
    }
   ],
   "source": [
    "print(df_resource['Governorate'].isna().sum(), df_level['Governorate'].isna().sum())\n",
    "print(df_resource['District'].isna().sum(), df_level['District'].isna().sum())\n"
   ]
  },
  {
   "cell_type": "code",
   "execution_count": 12,
   "id": "56dd33d1",
   "metadata": {},
   "outputs": [
    {
     "name": "stdout",
     "output_type": "stream",
     "text": [
      "✅ Datasets merged and saved as 'education_merged_cleaned.csv'\n",
      "         Governorate District              Town  \\\n",
      "0  Akkar Governorate     None      Aain Ez-Zeit   \n",
      "1  Akkar Governorate     None        Aain Tinta   \n",
      "2  Akkar Governorate     None      Aain Yaaqoub   \n",
      "3  Akkar Governorate     None            Aaiyat   \n",
      "4  Akkar Governorate     None  Aakkar El-Aatiqa   \n",
      "\n",
      "                             refArea_resource  EduResourceExists  \\\n",
      "0  https://dbpedia.org/page/Akkar_Governorate                  1   \n",
      "1  https://dbpedia.org/page/Akkar_Governorate                  1   \n",
      "2  https://dbpedia.org/page/Akkar_Governorate                  1   \n",
      "3  https://dbpedia.org/page/Akkar_Governorate                  1   \n",
      "4  https://dbpedia.org/page/Akkar_Governorate                  1   \n",
      "\n",
      "   VocationalInstitutes                           Observation URI_resource  \\\n",
      "0                     0  http://linked.aub.edu.lb/CODEC/Lebanon/observa...   \n",
      "1                     1  http://linked.aub.edu.lb/CODEC/Lebanon/observa...   \n",
      "2                     1  http://linked.aub.edu.lb/CODEC/Lebanon/observa...   \n",
      "3                     0  http://linked.aub.edu.lb/CODEC/Lebanon/observa...   \n",
      "4                     1  http://linked.aub.edu.lb/CODEC/Lebanon/observa...   \n",
      "\n",
      "                                references_resource publisher_resource  \\\n",
      "0  https://impact.cib.gov.lb/home#open_data_section   Impact Open Data   \n",
      "1  https://impact.cib.gov.lb/home#open_data_section   Impact Open Data   \n",
      "2  https://impact.cib.gov.lb/home#open_data_section   Impact Open Data   \n",
      "3  https://impact.cib.gov.lb/home#open_data_section   Impact Open Data   \n",
      "4  https://impact.cib.gov.lb/home#open_data_section   Impact Open Data   \n",
      "\n",
      "   EduResourceMissing  ...                              Observation URI_level  \\\n",
      "0                   0  ...  http://linked.aub.edu.lb/CODEC/Lebanon/observa...   \n",
      "1                   0  ...  http://linked.aub.edu.lb/CODEC/Lebanon/observa...   \n",
      "2                   0  ...  http://linked.aub.edu.lb/CODEC/Lebanon/observa...   \n",
      "3                   0  ...  http://linked.aub.edu.lb/CODEC/Lebanon/observa...   \n",
      "4                   0  ...  http://linked.aub.edu.lb/CODEC/Lebanon/observa...   \n",
      "\n",
      "                                   references_level  University  \\\n",
      "0  https://impact.cib.gov.lb/home#open_data_section        15.0   \n",
      "1  https://impact.cib.gov.lb/home#open_data_section        15.0   \n",
      "2  https://impact.cib.gov.lb/home#open_data_section        20.0   \n",
      "3  https://impact.cib.gov.lb/home#open_data_section        10.0   \n",
      "4  https://impact.cib.gov.lb/home#open_data_section        15.0   \n",
      "\n",
      "    publisher_level  Secondary Intermediate  Vocational Elementary  \\\n",
      "0  Impact Open Data       15.0         15.0        15.0       15.0   \n",
      "1  Impact Open Data       50.0         30.0         1.0        2.0   \n",
      "2  Impact Open Data       20.0         15.0        20.0       15.0   \n",
      "3  Impact Open Data       20.0         30.0         5.0       30.0   \n",
      "4  Impact Open Data       20.0         20.0        10.0       20.0   \n",
      "\n",
      "   HigherEducation                                      dataset_level  \n",
      "0              5.0  http://linked.aub.edu.lb/CODEC/Lebanon/Dataset...  \n",
      "1              1.0  http://linked.aub.edu.lb/CODEC/Lebanon/Dataset...  \n",
      "2              5.0  http://linked.aub.edu.lb/CODEC/Lebanon/Dataset...  \n",
      "3              3.0  http://linked.aub.edu.lb/CODEC/Lebanon/Dataset...  \n",
      "4              5.0  http://linked.aub.edu.lb/CODEC/Lebanon/Dataset...  \n",
      "\n",
      "[5 rows x 30 columns]\n"
     ]
    }
   ],
   "source": [
    "#I fixed them and merged again\n",
    "# # Merge on Governorate + District + Town\n",
    "df_merged = pd.merge(\n",
    "    df_resource,\n",
    "    df_level,\n",
    "    on=['Governorate', 'District', 'Town'],\n",
    "    how='outer',  # keeps all rows from both datasets\n",
    "    suffixes=('_resource', '_level')\n",
    ")\n",
    "\n",
    "# Optional: reorder columns for clarity\n",
    "cols_order = ['Governorate', 'District', 'Town'] + \\\n",
    "             [col for col in df_merged.columns if col not in ['Governorate', 'District', 'Town']]\n",
    "\n",
    "df_merged = df_merged[cols_order]\n",
    "\n",
    "# Save merged dataset\n",
    "df_merged.to_csv('education_merged_cleaned.csv', index=False)\n",
    "\n",
    "print(\"✅ Datasets merged and saved as 'education_merged_cleaned.csv'\")\n",
    "print(df_merged.head())\n"
   ]
  },
  {
   "cell_type": "code",
   "execution_count": 13,
   "id": "112de6da",
   "metadata": {},
   "outputs": [],
   "source": [
    "# Fix encoding issues in District column\n",
    "def fix_district_encoding(district):\n",
    "    if pd.isna(district):\n",
    "        return district\n",
    "    # Replace common mis-encoded characters\n",
    "    district = district.replace('√©','é').replace('â\\x80\\x93','-').strip()\n",
    "    return district\n",
    "\n",
    "for df in [df_resource, df_level]:\n",
    "    df['District'] = df['District'].apply(fix_district_encoding)\n"
   ]
  },
  {
   "cell_type": "code",
   "execution_count": 14,
   "id": "cd9bfa42",
   "metadata": {},
   "outputs": [],
   "source": [
    "# Update the mapping\n",
    "district_to_governorate.update({\n",
    "    \"Bcharre District\": \"North Governorate\",\n",
    "    \"Sidon District\": \"South Governorate\",\n",
    "    \"Matn District\": \"Mount Lebanon Governorate\",\n",
    "    \"Byblos District\": \"Mount Lebanon Governorate\",\n",
    "    \"Zahlé District\": \"Beqaa Governorate\"\n",
    "})\n",
    "\n",
    "# Refill Governorate column\n",
    "for df in [df_resource, df_level]:\n",
    "    df['Governorate'] = df.apply(\n",
    "        lambda row: district_to_governorate.get(row['District'], row['Governorate']),\n",
    "        axis=1\n",
    "    )\n"
   ]
  },
  {
   "cell_type": "code",
   "execution_count": 15,
   "id": "892b4be4",
   "metadata": {},
   "outputs": [
    {
     "name": "stdout",
     "output_type": "stream",
     "text": [
      "                      District                 Governorate\n",
      "19               Aley District   Mount Lebanon Governorate\n",
      "4              Baabda District   Mount Lebanon Governorate\n",
      "10            Batroun District           North Governorate\n",
      "40         Bint Jbeil District           South Governorate\n",
      "8             Bsharri District                        None\n",
      "5              Byblos District   Mount Lebanon Governorate\n",
      "41            Hasbaya District           South Governorate\n",
      "329            Hermel District  Baalbek-Hermel Governorate\n",
      "12           Keserwan District   Mount Lebanon Governorate\n",
      "13          Marjeyoun District           South Governorate\n",
      "29               Matn District   Mount Lebanon Governorate\n",
      "35   Miniyeh–Danniyeh District           North Governorate\n",
      "9               Sidon District           South Governorate\n",
      "195  Tripoli District, Lebanon           North Governorate\n",
      "7                Tyre District           South Governorate\n",
      "55      Western Beqaa District           Beqaa Governorate\n",
      "44              Zahlé District           Beqaa Governorate\n",
      "11            Zgharta District           North Governorate\n",
      "0                         None   Mount Lebanon Governorate\n",
      "1                         None           South Governorate\n",
      "2                         None           Akkar Governorate\n",
      "3                         None           North Governorate\n",
      "6                         None        Nabatieh Governorate\n",
      "20                        None           Beqaa Governorate\n",
      "95                        None  Baalbek-Hermel Governorate\n",
      "                      District                 Governorate\n",
      "19               Aley District   Mount Lebanon Governorate\n",
      "4              Baabda District   Mount Lebanon Governorate\n",
      "10            Batroun District           North Governorate\n",
      "40         Bint Jbeil District           South Governorate\n",
      "8             Bsharri District                        None\n",
      "5              Byblos District   Mount Lebanon Governorate\n",
      "41            Hasbaya District           South Governorate\n",
      "329            Hermel District  Baalbek-Hermel Governorate\n",
      "12           Keserwan District   Mount Lebanon Governorate\n",
      "13          Marjeyoun District           South Governorate\n",
      "29               Matn District   Mount Lebanon Governorate\n",
      "35   Miniyeh–Danniyeh District           North Governorate\n",
      "9               Sidon District           South Governorate\n",
      "195  Tripoli District, Lebanon           North Governorate\n",
      "7                Tyre District           South Governorate\n",
      "55      Western Beqaa District           Beqaa Governorate\n",
      "44              Zahlé District           Beqaa Governorate\n",
      "11            Zgharta District           North Governorate\n",
      "0                         None   Mount Lebanon Governorate\n",
      "1                         None           South Governorate\n",
      "2                         None           Akkar Governorate\n",
      "3                         None           North Governorate\n",
      "6                         None        Nabatieh Governorate\n",
      "20                        None           Beqaa Governorate\n",
      "95                        None  Baalbek-Hermel Governorate\n"
     ]
    }
   ],
   "source": [
    "print(df_resource[['District','Governorate']].drop_duplicates().sort_values('District'))\n",
    "print(df_level[['District','Governorate']].drop_duplicates().sort_values('District'))\n"
   ]
  },
  {
   "cell_type": "code",
   "execution_count": 16,
   "id": "171a32c9",
   "metadata": {},
   "outputs": [
    {
     "name": "stdout",
     "output_type": "stream",
     "text": [
      "✅ Final merged dataset saved as 'education_merged_final.csv'\n",
      "         Governorate District              Town  \\\n",
      "0  Akkar Governorate     None      Aain Ez-Zeit   \n",
      "1  Akkar Governorate     None        Aain Tinta   \n",
      "2  Akkar Governorate     None      Aain Yaaqoub   \n",
      "3  Akkar Governorate     None            Aaiyat   \n",
      "4  Akkar Governorate     None  Aakkar El-Aatiqa   \n",
      "\n",
      "                             refArea_resource  EduResourceExists  \\\n",
      "0  https://dbpedia.org/page/Akkar_Governorate                  1   \n",
      "1  https://dbpedia.org/page/Akkar_Governorate                  1   \n",
      "2  https://dbpedia.org/page/Akkar_Governorate                  1   \n",
      "3  https://dbpedia.org/page/Akkar_Governorate                  1   \n",
      "4  https://dbpedia.org/page/Akkar_Governorate                  1   \n",
      "\n",
      "   VocationalInstitutes                           Observation URI_resource  \\\n",
      "0                     0  http://linked.aub.edu.lb/CODEC/Lebanon/observa...   \n",
      "1                     1  http://linked.aub.edu.lb/CODEC/Lebanon/observa...   \n",
      "2                     1  http://linked.aub.edu.lb/CODEC/Lebanon/observa...   \n",
      "3                     0  http://linked.aub.edu.lb/CODEC/Lebanon/observa...   \n",
      "4                     1  http://linked.aub.edu.lb/CODEC/Lebanon/observa...   \n",
      "\n",
      "                                references_resource publisher_resource  \\\n",
      "0  https://impact.cib.gov.lb/home#open_data_section   Impact Open Data   \n",
      "1  https://impact.cib.gov.lb/home#open_data_section   Impact Open Data   \n",
      "2  https://impact.cib.gov.lb/home#open_data_section   Impact Open Data   \n",
      "3  https://impact.cib.gov.lb/home#open_data_section   Impact Open Data   \n",
      "4  https://impact.cib.gov.lb/home#open_data_section   Impact Open Data   \n",
      "\n",
      "   EduResourceMissing  ...                              Observation URI_level  \\\n",
      "0                   0  ...  http://linked.aub.edu.lb/CODEC/Lebanon/observa...   \n",
      "1                   0  ...  http://linked.aub.edu.lb/CODEC/Lebanon/observa...   \n",
      "2                   0  ...  http://linked.aub.edu.lb/CODEC/Lebanon/observa...   \n",
      "3                   0  ...  http://linked.aub.edu.lb/CODEC/Lebanon/observa...   \n",
      "4                   0  ...  http://linked.aub.edu.lb/CODEC/Lebanon/observa...   \n",
      "\n",
      "                                   references_level  University  \\\n",
      "0  https://impact.cib.gov.lb/home#open_data_section        15.0   \n",
      "1  https://impact.cib.gov.lb/home#open_data_section        15.0   \n",
      "2  https://impact.cib.gov.lb/home#open_data_section        20.0   \n",
      "3  https://impact.cib.gov.lb/home#open_data_section        10.0   \n",
      "4  https://impact.cib.gov.lb/home#open_data_section        15.0   \n",
      "\n",
      "    publisher_level  Secondary Intermediate  Vocational Elementary  \\\n",
      "0  Impact Open Data       15.0         15.0        15.0       15.0   \n",
      "1  Impact Open Data       50.0         30.0         1.0        2.0   \n",
      "2  Impact Open Data       20.0         15.0        20.0       15.0   \n",
      "3  Impact Open Data       20.0         30.0         5.0       30.0   \n",
      "4  Impact Open Data       20.0         20.0        10.0       20.0   \n",
      "\n",
      "   HigherEducation                                      dataset_level  \n",
      "0              5.0  http://linked.aub.edu.lb/CODEC/Lebanon/Dataset...  \n",
      "1              1.0  http://linked.aub.edu.lb/CODEC/Lebanon/Dataset...  \n",
      "2              5.0  http://linked.aub.edu.lb/CODEC/Lebanon/Dataset...  \n",
      "3              3.0  http://linked.aub.edu.lb/CODEC/Lebanon/Dataset...  \n",
      "4              5.0  http://linked.aub.edu.lb/CODEC/Lebanon/Dataset...  \n",
      "\n",
      "[5 rows x 30 columns]\n"
     ]
    }
   ],
   "source": [
    "# Merge the cleaned datasets\n",
    "df_merged = pd.merge(\n",
    "    df_resource,\n",
    "    df_level,\n",
    "    on=['Governorate', 'District', 'Town'],\n",
    "    how='outer',  # Keep all rows from both datasets\n",
    "    suffixes=('_resource', '_level')\n",
    ")\n",
    "\n",
    "# Optional: reorder columns for readability\n",
    "cols_order = ['Governorate', 'District', 'Town'] + \\\n",
    "             [col for col in df_merged.columns if col not in ['Governorate', 'District', 'Town']]\n",
    "df_merged = df_merged[cols_order]\n",
    "\n",
    "# Save the final merged dataset\n",
    "df_merged.to_csv('education_merged_final.csv', index=False, encoding='utf-8')\n",
    "\n",
    "# Quick check\n",
    "print(\"✅ Final merged dataset saved as 'education_merged_final.csv'\")\n",
    "print(df_merged.head())\n"
   ]
  },
  {
   "cell_type": "code",
   "execution_count": 17,
   "id": "aa76e3d3",
   "metadata": {},
   "outputs": [],
   "source": [
    "# Fix encoding issues in District column\n",
    "def fix_district_encoding(district):\n",
    "    if pd.isna(district):\n",
    "        return district\n",
    "    # Replace known mis-encoded characters\n",
    "    district = district.replace('√©','é').replace('â\\x80\\x93','-').strip()\n",
    "    return district\n",
    "\n",
    "for df in [df_resource, df_level]:\n",
    "    df['District'] = df['District'].apply(fix_district_encoding)\n"
   ]
  },
  {
   "cell_type": "code",
   "execution_count": 18,
   "id": "734345e1",
   "metadata": {},
   "outputs": [],
   "source": [
    "# Extend district → governorate mapping\n",
    "district_to_governorate.update({\n",
    "    \"Bsharri District\": \"North Governorate\",\n",
    "    \"Zahlé District\": \"Beqaa Governorate\"\n",
    "})\n",
    "\n",
    "# Refill Governorate column in both datasets\n",
    "for df in [df_resource, df_level]:\n",
    "    df['Governorate'] = df.apply(\n",
    "        lambda row: district_to_governorate.get(row['District'], row['Governorate']),\n",
    "        axis=1\n",
    "    )\n"
   ]
  },
  {
   "cell_type": "code",
   "execution_count": 19,
   "id": "b31551c4",
   "metadata": {},
   "outputs": [
    {
     "name": "stdout",
     "output_type": "stream",
     "text": [
      "              District        Governorate\n",
      "8     Bsharri District  North Governorate\n",
      "44      Zahlé District  Beqaa Governorate\n",
      "65      Zahlé District  Beqaa Governorate\n",
      "77      Zahlé District  Beqaa Governorate\n",
      "118     Zahlé District  Beqaa Governorate\n",
      "164   Bsharri District  North Governorate\n",
      "171     Zahlé District  Beqaa Governorate\n",
      "182   Bsharri District  North Governorate\n",
      "186   Bsharri District  North Governorate\n",
      "218   Bsharri District  North Governorate\n",
      "230   Bsharri District  North Governorate\n",
      "253   Bsharri District  North Governorate\n",
      "275     Zahlé District  Beqaa Governorate\n",
      "285   Bsharri District  North Governorate\n",
      "289   Bsharri District  North Governorate\n",
      "294   Bsharri District  North Governorate\n",
      "335     Zahlé District  Beqaa Governorate\n",
      "359     Zahlé District  Beqaa Governorate\n",
      "392     Zahlé District  Beqaa Governorate\n",
      "415   Bsharri District  North Governorate\n",
      "447     Zahlé District  Beqaa Governorate\n",
      "451     Zahlé District  Beqaa Governorate\n",
      "478   Bsharri District  North Governorate\n",
      "480   Bsharri District  North Governorate\n",
      "497     Zahlé District  Beqaa Governorate\n",
      "515   Bsharri District  North Governorate\n",
      "522     Zahlé District  Beqaa Governorate\n",
      "580     Zahlé District  Beqaa Governorate\n",
      "675     Zahlé District  Beqaa Governorate\n",
      "735   Bsharri District  North Governorate\n",
      "741     Zahlé District  Beqaa Governorate\n",
      "752     Zahlé District  Beqaa Governorate\n",
      "768     Zahlé District  Beqaa Governorate\n",
      "776   Bsharri District  North Governorate\n",
      "778   Bsharri District  North Governorate\n",
      "842     Zahlé District  Beqaa Governorate\n",
      "854     Zahlé District  Beqaa Governorate\n",
      "863     Zahlé District  Beqaa Governorate\n",
      "866     Zahlé District  Beqaa Governorate\n",
      "883   Bsharri District  North Governorate\n",
      "888     Zahlé District  Beqaa Governorate\n",
      "893     Zahlé District  Beqaa Governorate\n",
      "917   Bsharri District  North Governorate\n",
      "931   Bsharri District  North Governorate\n",
      "939     Zahlé District  Beqaa Governorate\n",
      "948     Zahlé District  Beqaa Governorate\n",
      "987     Zahlé District  Beqaa Governorate\n",
      "1043    Zahlé District  Beqaa Governorate\n",
      "1071    Zahlé District  Beqaa Governorate\n",
      "1099    Zahlé District  Beqaa Governorate\n",
      "              District        Governorate\n",
      "8     Bsharri District  North Governorate\n",
      "44      Zahlé District  Beqaa Governorate\n",
      "65      Zahlé District  Beqaa Governorate\n",
      "77      Zahlé District  Beqaa Governorate\n",
      "118     Zahlé District  Beqaa Governorate\n",
      "164   Bsharri District  North Governorate\n",
      "171     Zahlé District  Beqaa Governorate\n",
      "182   Bsharri District  North Governorate\n",
      "186   Bsharri District  North Governorate\n",
      "218   Bsharri District  North Governorate\n",
      "230   Bsharri District  North Governorate\n",
      "253   Bsharri District  North Governorate\n",
      "275     Zahlé District  Beqaa Governorate\n",
      "285   Bsharri District  North Governorate\n",
      "289   Bsharri District  North Governorate\n",
      "294   Bsharri District  North Governorate\n",
      "335     Zahlé District  Beqaa Governorate\n",
      "359     Zahlé District  Beqaa Governorate\n",
      "392     Zahlé District  Beqaa Governorate\n",
      "415   Bsharri District  North Governorate\n",
      "447     Zahlé District  Beqaa Governorate\n",
      "451     Zahlé District  Beqaa Governorate\n",
      "478   Bsharri District  North Governorate\n",
      "480   Bsharri District  North Governorate\n",
      "497     Zahlé District  Beqaa Governorate\n",
      "515   Bsharri District  North Governorate\n",
      "522     Zahlé District  Beqaa Governorate\n",
      "580     Zahlé District  Beqaa Governorate\n",
      "675     Zahlé District  Beqaa Governorate\n",
      "735   Bsharri District  North Governorate\n",
      "741     Zahlé District  Beqaa Governorate\n",
      "752     Zahlé District  Beqaa Governorate\n",
      "768     Zahlé District  Beqaa Governorate\n",
      "776   Bsharri District  North Governorate\n",
      "778   Bsharri District  North Governorate\n",
      "842     Zahlé District  Beqaa Governorate\n",
      "854     Zahlé District  Beqaa Governorate\n",
      "863     Zahlé District  Beqaa Governorate\n",
      "866     Zahlé District  Beqaa Governorate\n",
      "883   Bsharri District  North Governorate\n",
      "888     Zahlé District  Beqaa Governorate\n",
      "893     Zahlé District  Beqaa Governorate\n",
      "917   Bsharri District  North Governorate\n",
      "931   Bsharri District  North Governorate\n",
      "939     Zahlé District  Beqaa Governorate\n",
      "948     Zahlé District  Beqaa Governorate\n",
      "987     Zahlé District  Beqaa Governorate\n",
      "1043    Zahlé District  Beqaa Governorate\n",
      "1071    Zahlé District  Beqaa Governorate\n",
      "1099    Zahlé District  Beqaa Governorate\n"
     ]
    }
   ],
   "source": [
    "# Check the problematic districts\n",
    "print(df_resource[df_resource['District'].isin(['Bsharri District','Zahlé District'])][['District','Governorate']])\n",
    "print(df_level[df_level['District'].isin(['Bsharri District','Zahlé District'])][['District','Governorate']])\n"
   ]
  },
  {
   "cell_type": "code",
   "execution_count": 20,
   "id": "650f65c8",
   "metadata": {},
   "outputs": [
    {
     "name": "stdout",
     "output_type": "stream",
     "text": [
      "✅ Final merged dataset saved as 'education_merged_final.csv'\n",
      "         Governorate District              Town  \\\n",
      "0  Akkar Governorate     None      Aain Ez-Zeit   \n",
      "1  Akkar Governorate     None        Aain Tinta   \n",
      "2  Akkar Governorate     None      Aain Yaaqoub   \n",
      "3  Akkar Governorate     None            Aaiyat   \n",
      "4  Akkar Governorate     None  Aakkar El-Aatiqa   \n",
      "\n",
      "                             refArea_resource  EduResourceExists  \\\n",
      "0  https://dbpedia.org/page/Akkar_Governorate                  1   \n",
      "1  https://dbpedia.org/page/Akkar_Governorate                  1   \n",
      "2  https://dbpedia.org/page/Akkar_Governorate                  1   \n",
      "3  https://dbpedia.org/page/Akkar_Governorate                  1   \n",
      "4  https://dbpedia.org/page/Akkar_Governorate                  1   \n",
      "\n",
      "   VocationalInstitutes                           Observation URI_resource  \\\n",
      "0                     0  http://linked.aub.edu.lb/CODEC/Lebanon/observa...   \n",
      "1                     1  http://linked.aub.edu.lb/CODEC/Lebanon/observa...   \n",
      "2                     1  http://linked.aub.edu.lb/CODEC/Lebanon/observa...   \n",
      "3                     0  http://linked.aub.edu.lb/CODEC/Lebanon/observa...   \n",
      "4                     1  http://linked.aub.edu.lb/CODEC/Lebanon/observa...   \n",
      "\n",
      "                                references_resource publisher_resource  \\\n",
      "0  https://impact.cib.gov.lb/home#open_data_section   Impact Open Data   \n",
      "1  https://impact.cib.gov.lb/home#open_data_section   Impact Open Data   \n",
      "2  https://impact.cib.gov.lb/home#open_data_section   Impact Open Data   \n",
      "3  https://impact.cib.gov.lb/home#open_data_section   Impact Open Data   \n",
      "4  https://impact.cib.gov.lb/home#open_data_section   Impact Open Data   \n",
      "\n",
      "   EduResourceMissing  ...                              Observation URI_level  \\\n",
      "0                   0  ...  http://linked.aub.edu.lb/CODEC/Lebanon/observa...   \n",
      "1                   0  ...  http://linked.aub.edu.lb/CODEC/Lebanon/observa...   \n",
      "2                   0  ...  http://linked.aub.edu.lb/CODEC/Lebanon/observa...   \n",
      "3                   0  ...  http://linked.aub.edu.lb/CODEC/Lebanon/observa...   \n",
      "4                   0  ...  http://linked.aub.edu.lb/CODEC/Lebanon/observa...   \n",
      "\n",
      "                                   references_level  University  \\\n",
      "0  https://impact.cib.gov.lb/home#open_data_section        15.0   \n",
      "1  https://impact.cib.gov.lb/home#open_data_section        15.0   \n",
      "2  https://impact.cib.gov.lb/home#open_data_section        20.0   \n",
      "3  https://impact.cib.gov.lb/home#open_data_section        10.0   \n",
      "4  https://impact.cib.gov.lb/home#open_data_section        15.0   \n",
      "\n",
      "    publisher_level  Secondary Intermediate  Vocational Elementary  \\\n",
      "0  Impact Open Data       15.0         15.0        15.0       15.0   \n",
      "1  Impact Open Data       50.0         30.0         1.0        2.0   \n",
      "2  Impact Open Data       20.0         15.0        20.0       15.0   \n",
      "3  Impact Open Data       20.0         30.0         5.0       30.0   \n",
      "4  Impact Open Data       20.0         20.0        10.0       20.0   \n",
      "\n",
      "   HigherEducation                                      dataset_level  \n",
      "0              5.0  http://linked.aub.edu.lb/CODEC/Lebanon/Dataset...  \n",
      "1              1.0  http://linked.aub.edu.lb/CODEC/Lebanon/Dataset...  \n",
      "2              5.0  http://linked.aub.edu.lb/CODEC/Lebanon/Dataset...  \n",
      "3              3.0  http://linked.aub.edu.lb/CODEC/Lebanon/Dataset...  \n",
      "4              5.0  http://linked.aub.edu.lb/CODEC/Lebanon/Dataset...  \n",
      "\n",
      "[5 rows x 30 columns]\n"
     ]
    }
   ],
   "source": [
    "# Merge the cleaned datasets on Governorate + District + Town\n",
    "df_merged = pd.merge(\n",
    "    df_resource,\n",
    "    df_level,\n",
    "    on=['Governorate', 'District', 'Town'],\n",
    "    how='outer',  # keeps all rows from both datasets\n",
    "    suffixes=('_resource', '_level')\n",
    ")\n",
    "\n",
    "# Optional: reorder columns for readability\n",
    "cols_order = ['Governorate', 'District', 'Town'] + \\\n",
    "             [col for col in df_merged.columns if col not in ['Governorate', 'District', 'Town']]\n",
    "\n",
    "df_merged = df_merged[cols_order]\n",
    "\n",
    "# Save the final merged dataset\n",
    "df_merged.to_csv('education_merged_final.csv', index=False, encoding='utf-8')\n",
    "\n",
    "print(\"✅ Final merged dataset saved as 'education_merged_final.csv'\")\n",
    "print(df_merged.head())\n"
   ]
  },
  {
   "cell_type": "code",
   "execution_count": 21,
   "id": "1fca7cc5",
   "metadata": {},
   "outputs": [
    {
     "data": {
      "application/vnd.plotly.v1+json": {
       "config": {
        "plotlyServerURL": "https://plot.ly"
       },
       "data": [
        {
         "customdata": [
          [
           13.666666666666666,
           18.228571428571428,
           18.428571428571427,
           11.82857142857143,
           22.242857142857144,
           11.742857142857142
          ],
          [
           16.666666666666668,
           18.333333333333332,
           25,
           15,
           15,
           6.666666666666667
          ],
          [
           17.488372093023255,
           20.046511627906977,
           23.325581395348838,
           10.209302325581396,
           17.3953488372093,
           5.604651162790698
          ],
          [
           21.470588235294116,
           22.235294117647058,
           19.235294117647058,
           9.235294117647058,
           15.058823529411764,
           3.1176470588235294
          ],
          [
           19.571428571428573,
           21.357142857142858,
           18.571428571428573,
           9.392857142857142,
           16.678571428571427,
           6.75
          ],
          [
           12.02,
           16.6734693877551,
           19.72,
           10.2,
           30.4,
           9.673469387755102
          ],
          [
           21.77777777777778,
           20.555555555555557,
           20.555555555555557,
           8.88888888888889,
           17.74074074074074,
           4.651851851851852
          ],
          [
           20.564102564102566,
           21.743589743589745,
           17.76923076923077,
           9.051282051282051,
           15.128205128205128,
           4.17948717948718
          ],
          [
           19,
           18.22222222222222,
           18.755555555555556,
           9.066666666666666,
           23.344444444444445,
           5.877777777777778
          ],
          [
           22.275,
           18.95,
           17.05,
           12.325,
           16.75,
           3.925
          ],
          [
           17.833333333333332,
           21.6,
           20.85,
           13.833333333333334,
           17.63157894736842,
           5.052631578947368
          ],
          [
           129.2,
           189.70857142857145,
           74.37142857142857,
           24.782857142857143,
           31.257142857142856,
           6.828571428571428
          ],
          [
           14.833333333333334,
           19,
           19.62264150943396,
           10.830188679245284,
           23.71698113207547,
           7.281132075471698
          ],
          [
           25.333333333333332,
           20,
           14.222222222222221,
           15.777777777777779,
           12.777777777777779,
           4.555555555555555
          ],
          [
           16.647058823529413,
           20.058823529411764,
           20.029411764705884,
           9.882352941176471,
           20.852941176470587,
           8.117647058823529
          ],
          [
           10.862068965517242,
           15.724137931034482,
           20.82758620689655,
           9,
           31.137931034482758,
           8.172413793103448
          ],
          [
           17.818181818181817,
           21.681818181818183,
           21,
           9.045454545454545,
           14.045454545454545,
           3.659090909090909
          ],
          [
           12.052631578947368,
           20.57894736842105,
           16.736842105263158,
           9.68421052631579,
           29.42105263157895,
           6.157894736842105
          ]
         ],
         "hovertemplate": "<b>%{x}</b><br>Total Resources: %{y}<br>Elementary: %{customdata[0]:.1f}%<br>Intermediate: %{customdata[1]:.1f}%<br>Secondary: %{customdata[2]:.1f}%<br>Vocational: %{customdata[3]:.1f}%<br>University: %{customdata[4]:.1f}%<br>HigherEducation: %{customdata[5]:.1f}%",
         "marker": {
          "color": "lightskyblue"
         },
         "name": "Total Resources",
         "type": "bar",
         "x": [
          "Baabda District",
          "Tripoli District, Lebanon",
          "Sidon District",
          "Hasbaya District",
          "Zahlé District",
          "Matn District",
          "Western Beqaa District",
          "Tyre District",
          "Aley District",
          "Miniyeh–Danniyeh District",
          "Bint Jbeil District",
          "Zgharta District",
          "Byblos District",
          "Hermel District",
          "Keserwan District",
          "Batroun District",
          "Marjeyoun District",
          "Bsharri District"
         ],
         "y": [
          312,
          225,
          143,
          105,
          99,
          85,
          70,
          67,
          65,
          64,
          59,
          54,
          40,
          37,
          35,
          27,
          24,
          17
         ]
        },
        {
         "marker": {
          "color": "crimson"
         },
         "mode": "lines+markers",
         "name": "Illiteracy (%)",
         "type": "scatter",
         "x": [
          "Baabda District",
          "Tripoli District, Lebanon",
          "Sidon District",
          "Hasbaya District",
          "Zahlé District",
          "Matn District",
          "Western Beqaa District",
          "Tyre District",
          "Aley District",
          "Miniyeh–Danniyeh District",
          "Bint Jbeil District",
          "Zgharta District",
          "Byblos District",
          "Hermel District",
          "Keserwan District",
          "Batroun District",
          "Marjeyoun District",
          "Bsharri District"
         ],
         "y": [
          3.4305555555555554,
          3.3333333333333335,
          6.136363636363637,
          7.0588235294117645,
          7.678571428571429,
          2.6346153846153846,
          5.644444444444445,
          6.435897435897436,
          5.733333333333333,
          8.725,
          7.5,
          10.142857142857142,
          3.5388888888888888,
          13,
          4.857142857142857,
          4.275862068965517,
          3.659090909090909,
          5.368421052631579
         ],
         "yaxis": "y2"
        }
       ],
       "layout": {
        "hovermode": "x",
        "legend": {
         "x": 0.01,
         "y": 0.99
        },
        "template": {
         "data": {
          "candlestick": [
           {
            "decreasing": {
             "line": {
              "color": "#000033"
             }
            },
            "increasing": {
             "line": {
              "color": "#000032"
             }
            },
            "type": "candlestick"
           }
          ],
          "contour": [
           {
            "colorscale": [
             [
              0,
              "#000011"
             ],
             [
              0.1111111111111111,
              "#000012"
             ],
             [
              0.2222222222222222,
              "#000013"
             ],
             [
              0.3333333333333333,
              "#000014"
             ],
             [
              0.4444444444444444,
              "#000015"
             ],
             [
              0.5555555555555556,
              "#000016"
             ],
             [
              0.6666666666666666,
              "#000017"
             ],
             [
              0.7777777777777778,
              "#000018"
             ],
             [
              0.8888888888888888,
              "#000019"
             ],
             [
              1,
              "#000020"
             ]
            ],
            "type": "contour"
           }
          ],
          "contourcarpet": [
           {
            "colorscale": [
             [
              0,
              "#000011"
             ],
             [
              0.1111111111111111,
              "#000012"
             ],
             [
              0.2222222222222222,
              "#000013"
             ],
             [
              0.3333333333333333,
              "#000014"
             ],
             [
              0.4444444444444444,
              "#000015"
             ],
             [
              0.5555555555555556,
              "#000016"
             ],
             [
              0.6666666666666666,
              "#000017"
             ],
             [
              0.7777777777777778,
              "#000018"
             ],
             [
              0.8888888888888888,
              "#000019"
             ],
             [
              1,
              "#000020"
             ]
            ],
            "type": "contourcarpet"
           }
          ],
          "heatmap": [
           {
            "colorscale": [
             [
              0,
              "#000011"
             ],
             [
              0.1111111111111111,
              "#000012"
             ],
             [
              0.2222222222222222,
              "#000013"
             ],
             [
              0.3333333333333333,
              "#000014"
             ],
             [
              0.4444444444444444,
              "#000015"
             ],
             [
              0.5555555555555556,
              "#000016"
             ],
             [
              0.6666666666666666,
              "#000017"
             ],
             [
              0.7777777777777778,
              "#000018"
             ],
             [
              0.8888888888888888,
              "#000019"
             ],
             [
              1,
              "#000020"
             ]
            ],
            "type": "heatmap"
           }
          ],
          "histogram2d": [
           {
            "colorscale": [
             [
              0,
              "#000011"
             ],
             [
              0.1111111111111111,
              "#000012"
             ],
             [
              0.2222222222222222,
              "#000013"
             ],
             [
              0.3333333333333333,
              "#000014"
             ],
             [
              0.4444444444444444,
              "#000015"
             ],
             [
              0.5555555555555556,
              "#000016"
             ],
             [
              0.6666666666666666,
              "#000017"
             ],
             [
              0.7777777777777778,
              "#000018"
             ],
             [
              0.8888888888888888,
              "#000019"
             ],
             [
              1,
              "#000020"
             ]
            ],
            "type": "histogram2d"
           }
          ],
          "icicle": [
           {
            "textfont": {
             "color": "white"
            },
            "type": "icicle"
           }
          ],
          "sankey": [
           {
            "textfont": {
             "color": "#000036"
            },
            "type": "sankey"
           }
          ],
          "scatter": [
           {
            "marker": {
             "line": {
              "width": 0
             }
            },
            "type": "scatter"
           }
          ],
          "table": [
           {
            "cells": {
             "fill": {
              "color": "#000038"
             },
             "font": {
              "color": "#000037"
             },
             "line": {
              "color": "#000039"
             }
            },
            "header": {
             "fill": {
              "color": "#000040"
             },
             "font": {
              "color": "#000036"
             },
             "line": {
              "color": "#000039"
             }
            },
            "type": "table"
           }
          ],
          "waterfall": [
           {
            "connector": {
             "line": {
              "color": "#000036",
              "width": 2
             }
            },
            "decreasing": {
             "marker": {
              "color": "#000033"
             }
            },
            "increasing": {
             "marker": {
              "color": "#000032"
             }
            },
            "totals": {
             "marker": {
              "color": "#000034"
             }
            },
            "type": "waterfall"
           }
          ]
         },
         "layout": {
          "coloraxis": {
           "colorscale": [
            [
             0,
             "#000011"
            ],
            [
             0.1111111111111111,
             "#000012"
            ],
            [
             0.2222222222222222,
             "#000013"
            ],
            [
             0.3333333333333333,
             "#000014"
            ],
            [
             0.4444444444444444,
             "#000015"
            ],
            [
             0.5555555555555556,
             "#000016"
            ],
            [
             0.6666666666666666,
             "#000017"
            ],
            [
             0.7777777777777778,
             "#000018"
            ],
            [
             0.8888888888888888,
             "#000019"
            ],
            [
             1,
             "#000020"
            ]
           ]
          },
          "colorscale": {
           "diverging": [
            [
             0,
             "#000021"
            ],
            [
             0.1,
             "#000022"
            ],
            [
             0.2,
             "#000023"
            ],
            [
             0.3,
             "#000024"
            ],
            [
             0.4,
             "#000025"
            ],
            [
             0.5,
             "#000026"
            ],
            [
             0.6,
             "#000027"
            ],
            [
             0.7,
             "#000028"
            ],
            [
             0.8,
             "#000029"
            ],
            [
             0.9,
             "#000030"
            ],
            [
             1,
             "#000031"
            ]
           ],
           "sequential": [
            [
             0,
             "#000011"
            ],
            [
             0.1111111111111111,
             "#000012"
            ],
            [
             0.2222222222222222,
             "#000013"
            ],
            [
             0.3333333333333333,
             "#000014"
            ],
            [
             0.4444444444444444,
             "#000015"
            ],
            [
             0.5555555555555556,
             "#000016"
            ],
            [
             0.6666666666666666,
             "#000017"
            ],
            [
             0.7777777777777778,
             "#000018"
            ],
            [
             0.8888888888888888,
             "#000019"
            ],
            [
             1,
             "#000020"
            ]
           ],
           "sequentialminus": [
            [
             0,
             "#000011"
            ],
            [
             0.1111111111111111,
             "#000012"
            ],
            [
             0.2222222222222222,
             "#000013"
            ],
            [
             0.3333333333333333,
             "#000014"
            ],
            [
             0.4444444444444444,
             "#000015"
            ],
            [
             0.5555555555555556,
             "#000016"
            ],
            [
             0.6666666666666666,
             "#000017"
            ],
            [
             0.7777777777777778,
             "#000018"
            ],
            [
             0.8888888888888888,
             "#000019"
            ],
            [
             1,
             "#000020"
            ]
           ]
          },
          "colorway": [
           "#000001",
           "#000002",
           "#000003",
           "#000004",
           "#000005",
           "#000006",
           "#000007",
           "#000008",
           "#000009",
           "#000010"
          ]
         }
        },
        "title": {
         "text": "Educational Resources and Illiteracy by District"
        },
        "xaxis": {
         "tickangle": -45
        },
        "yaxis": {
         "title": {
          "text": "Total Resources"
         }
        },
        "yaxis2": {
         "overlaying": "y",
         "side": "right",
         "title": {
          "text": "Illiteracy (%)"
         }
        }
       }
      }
     },
     "metadata": {},
     "output_type": "display_data"
    }
   ],
   "source": [
    "import pandas as pd\n",
    "import plotly.graph_objects as go\n",
    "\n",
    "# Load merged dataset\n",
    "df = pd.read_csv('education_merged_final.csv', encoding='utf-8')\n",
    "\n",
    "# Aggregate by district\n",
    "df_plot = df.groupby('District').agg({\n",
    "    'PublicSchools':'sum',\n",
    "    'PrivateSchools':'sum',\n",
    "    'Universities':'sum',\n",
    "    'VocationalInstitutes':'sum',\n",
    "    'Illiteracy':'mean',\n",
    "    'Elementary':'mean',\n",
    "    'Intermediate':'mean',\n",
    "    'Secondary':'mean',\n",
    "    'Vocational':'mean',\n",
    "    'University':'mean',\n",
    "    'HigherEducation':'mean'\n",
    "}).reset_index()\n",
    "\n",
    "# Calculate total resources for bars\n",
    "df_plot['TotalResources'] = df_plot['PublicSchools'] + df_plot['PrivateSchools'] + df_plot['Universities'] + df_plot['VocationalInstitutes']\n",
    "\n",
    "# Sort by total resources for better visualization\n",
    "df_plot = df_plot.sort_values('TotalResources', ascending=False)\n",
    "\n",
    "# Create figure\n",
    "fig = go.Figure()\n",
    "\n",
    "# Add bar for total resources\n",
    "fig.add_trace(go.Bar(\n",
    "    x=df_plot['District'],\n",
    "    y=df_plot['TotalResources'],\n",
    "    name='Total Resources',\n",
    "    marker_color='lightskyblue',\n",
    "    hovertemplate=\n",
    "        \"<b>%{x}</b><br>\" +\n",
    "        \"Total Resources: %{y}<br>\" +\n",
    "        \"Elementary: %{customdata[0]:.1f}%<br>\" +\n",
    "        \"Intermediate: %{customdata[1]:.1f}%<br>\" +\n",
    "        \"Secondary: %{customdata[2]:.1f}%<br>\" +\n",
    "        \"Vocational: %{customdata[3]:.1f}%<br>\" +\n",
    "        \"University: %{customdata[4]:.1f}%<br>\" +\n",
    "        \"HigherEducation: %{customdata[5]:.1f}%\",\n",
    "    customdata=df_plot[['Elementary','Intermediate','Secondary','Vocational','University','HigherEducation']].values\n",
    "))\n",
    "\n",
    "# Add line for illiteracy\n",
    "fig.add_trace(go.Scatter(\n",
    "    x=df_plot['District'],\n",
    "    y=df_plot['Illiteracy'],\n",
    "    name='Illiteracy (%)',\n",
    "    mode='lines+markers',\n",
    "    marker_color='crimson',\n",
    "    yaxis='y2'\n",
    "))\n",
    "\n",
    "# Update layout for dual axis\n",
    "fig.update_layout(\n",
    "    title='Educational Resources and Illiteracy by District',\n",
    "    xaxis_tickangle=-45,\n",
    "    yaxis=dict(title='Total Resources'),\n",
    "    yaxis2=dict(\n",
    "        title='Illiteracy (%)',\n",
    "        overlaying='y',\n",
    "        side='right'\n",
    "    ),\n",
    "    legend=dict(x=0.01, y=0.99),\n",
    "    hovermode='x'\n",
    ")\n",
    "\n",
    "fig.show()\n"
   ]
  }
 ],
 "metadata": {
  "kernelspec": {
   "display_name": "base",
   "language": "python",
   "name": "python3"
  },
  "language_info": {
   "codemirror_mode": {
    "name": "ipython",
    "version": 3
   },
   "file_extension": ".py",
   "mimetype": "text/x-python",
   "name": "python",
   "nbconvert_exporter": "python",
   "pygments_lexer": "ipython3",
   "version": "3.12.7"
  }
 },
 "nbformat": 4,
 "nbformat_minor": 5
}
